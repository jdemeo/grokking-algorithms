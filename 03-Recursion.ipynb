{
 "cells": [
  {
   "cell_type": "markdown",
   "metadata": {},
   "source": [
    "# Recursion\n",
    "- \"Loops may achieve a performance gain for your program. Recursion may achieve a performance gain for your porgrammer. Choose which is more important in your situation.\" - Leigh Caldwell (Stack Overflow)\n",
    "- Recrusion is used when it makes the solution clearer\n",
    "- It does not provide a performance benefit\n",
    "- Recursion is when a function call itself"
   ]
  },
  {
   "cell_type": "markdown",
   "metadata": {},
   "source": [
    "# Base case and recursive case\n",
    "- Every recrusive function has two parts: the base case and the recursive case\n",
    "    - The recursive case is when the function calls itself\n",
    "    - The base case is when the function doesn't call itself again to prevent an infinite loop"
   ]
  },
  {
   "cell_type": "markdown",
   "metadata": {},
   "source": [
    "# The Stack\n",
    "- A stack is a scenario where items (to do list) are added at the very top and the top most action is done and then removed.\n",
    "- When you call a function from another function, the calling function is paused in a partially completed state (a call stack)\n",
    "    - All the values of the variables for that function are still stored in memory.\n",
    "- The cost of using a stack is that saving every case in the stack requires memory\n",
    "    - If memory usage gets too high you either use a loop instead, or use tail recursion (out of scope of book)"
   ]
  },
  {
   "cell_type": "code",
   "execution_count": 3,
   "metadata": {},
   "outputs": [
    {
     "name": "stdout",
     "output_type": "stream",
     "text": [
      "hello, josh!\n",
      "how are you, josh?\n",
      "getting ready to say bye...\n",
      "ok bye!\n"
     ]
    }
   ],
   "source": [
    "# The Call Stack\n",
    "def greet(name):\n",
    "    print \"hello, \" + name + \"!\"\n",
    "    greet2(name)\n",
    "    print \"getting ready to say bye...\"\n",
    "    bye()\n",
    "    \n",
    "def greet2(name):\n",
    "    print \"how are you, \" + name + \"?\"\n",
    "    \n",
    "def bye():\n",
    "    print \"ok bye!\"\n",
    "        \n",
    "greet('josh')"
   ]
  },
  {
   "cell_type": "code",
   "execution_count": 4,
   "metadata": {},
   "outputs": [
    {
     "data": {
      "text/plain": [
       "6"
      ]
     },
     "execution_count": 4,
     "metadata": {},
     "output_type": "execute_result"
    }
   ],
   "source": [
    "# The call stack with recursion\n",
    "def fact(x):\n",
    "    if x == 1: # base case\n",
    "        return 1\n",
    "    else:\n",
    "        return x*fact(x-1) # recursive call\n",
    "\n",
    "fact(3)"
   ]
  },
  {
   "cell_type": "markdown",
   "metadata": {},
   "source": [
    "- Each x value in subsequent calls are exclusive to that call"
   ]
  }
 ],
 "metadata": {
  "kernelspec": {
   "display_name": "Python [conda env:py27]",
   "language": "python",
   "name": "conda-env-py27-py"
  },
  "language_info": {
   "codemirror_mode": {
    "name": "ipython",
    "version": 2
   },
   "file_extension": ".py",
   "mimetype": "text/x-python",
   "name": "python",
   "nbconvert_exporter": "python",
   "pygments_lexer": "ipython2",
   "version": "2.7.14"
  }
 },
 "nbformat": 4,
 "nbformat_minor": 2
}
