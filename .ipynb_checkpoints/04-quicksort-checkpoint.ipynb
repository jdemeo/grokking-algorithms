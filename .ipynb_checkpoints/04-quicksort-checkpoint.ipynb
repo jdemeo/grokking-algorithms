{
 "cells": [
  {
   "cell_type": "markdown",
   "metadata": {},
   "source": [
    "# Divide and Conquer\n",
    "- To solve a problem using D&C:\n",
    "    - Figure out the base case. This should be the simplest possible case.\n",
    "    - Divide or decrease your problem until it becomes the base case.\n",
    "- For a land plot cut up into the largest square size set\n",
    "    - Inititally see if one side is the multiple of the other side\n",
    "    - Or go with Euclid's algorithm (see Khan Academy)\n",
    "- Functional programming languagaes like Haskell don't have loops so you have to use recursion to write functions"
   ]
  },
  {
   "cell_type": "code",
   "execution_count": null,
   "metadata": {
    "collapsed": true
   },
   "outputs": [],
   "source": []
  }
 ],
 "metadata": {
  "kernelspec": {
   "display_name": "Python [conda env:py27]",
   "language": "python",
   "name": "conda-env-py27-py"
  },
  "language_info": {
   "codemirror_mode": {
    "name": "ipython",
    "version": 2
   },
   "file_extension": ".py",
   "mimetype": "text/x-python",
   "name": "python",
   "nbconvert_exporter": "python",
   "pygments_lexer": "ipython2",
   "version": "2.7.14"
  }
 },
 "nbformat": 4,
 "nbformat_minor": 2
}
