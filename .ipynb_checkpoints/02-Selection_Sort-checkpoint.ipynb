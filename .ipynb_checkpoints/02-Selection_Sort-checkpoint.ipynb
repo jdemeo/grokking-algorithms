{
 "cells": [
  {
   "cell_type": "markdown",
   "metadata": {},
   "source": [
    "# Arrays and Linked Lists\n",
    "- Arrays are added in memory contiguously (right next to each other)\n",
    "    - If space is occupied by some other object then it takes time to find a new space of memory for an element in your array\n",
    "    - Arrays have fast reads, and slow inserts\n",
    "        - Arrays use random access so can directly get a specific element\n",
    "    - All elements in the array should be the same dtype\n",
    "- With linked lists, your items can be anywhere in memory\n",
    "    - Addresses at every element tells you where the next element in the list is\n",
    "    - An issue arises when you want element 900 out of 901. You will have to go to each element before reaching element 900\n",
    "    - Linked lists are not well suited for accessing memory at various specific locations.\n",
    "    - Linked lists have slow reads, but fast inserts\n",
    "        - Linked lists can only use sequential access to reach a specific element\n",
    "    - Lists are better if you want to insert elements in the middle\n",
    "    - Lists are better if you want to delete elements in the middle"
   ]
  },
  {
   "cell_type": "markdown",
   "metadata": {},
   "source": [
    "# Selection Sort\n",
    "- To sort a list of artists by play count one would have to first check every item in the list (n times) and then sort each item (n times). Therefore the operation is O(n^2)"
   ]
  },
  {
   "cell_type": "code",
   "execution_count": 2,
   "metadata": {},
   "outputs": [
    {
     "name": "stdout",
     "output_type": "stream",
     "text": [
      "[2, 3, 5, 6, 10]\n"
     ]
    }
   ],
   "source": [
    "# Example code listing; sorting an array from smallest to largest\n",
    "def findSmallest(arr):\n",
    "    smallest = arr[0] # Stores the smallest value\n",
    "    smallest_index = 0 # Store the index of the smallest value\n",
    "    for i in range(1, len(arr)):\n",
    "        if arr[i] < smallest:\n",
    "            smallest = arr[i]\n",
    "            smallest_index = i\n",
    "    return smallest_index\n",
    "\n",
    "# Selection Sort\n",
    "def selectionSort(arr): # Sorts an array\n",
    "    newArr= []\n",
    "    for i in range(len(arr)):\n",
    "        # Finds the smallest element in the array and adds it to the new array\n",
    "        smallest = findSmallest(arr) \n",
    "        newArr.append(arr.pop(smallest))\n",
    "    return newArr\n",
    "\n",
    "print selectionSort([5,3,6,2,10])"
   ]
  }
 ],
 "metadata": {
  "kernelspec": {
   "display_name": "Python [conda env:py27]",
   "language": "python",
   "name": "conda-env-py27-py"
  },
  "language_info": {
   "codemirror_mode": {
    "name": "ipython",
    "version": 2
   },
   "file_extension": ".py",
   "mimetype": "text/x-python",
   "name": "python",
   "nbconvert_exporter": "python",
   "pygments_lexer": "ipython2",
   "version": "2.7.14"
  }
 },
 "nbformat": 4,
 "nbformat_minor": 2
}
