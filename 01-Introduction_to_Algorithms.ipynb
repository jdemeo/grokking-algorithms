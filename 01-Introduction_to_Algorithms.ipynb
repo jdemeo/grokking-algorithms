{
 "cells": [
  {
   "cell_type": "markdown",
   "metadata": {},
   "source": [
    "# Binary Search\n",
    "- With binary search, you guess the middle number and eliminate half the remaining numbers every time of a sorted list\n",
    "- With Big O notation, log always mean log_2\n",
    "    - Remember log_2(8) = 3 and 2^3 = 8\n",
    "- In simple search, the maximum number of guesses is the same as the size of the list. This is called linear time.\n",
    "    - Binary search runs in logarithmic time"
   ]
  },
  {
   "cell_type": "code",
   "execution_count": 1,
   "metadata": {},
   "outputs": [
    {
     "name": "stdout",
     "output_type": "stream",
     "text": [
      "1\n",
      "None\n"
     ]
    }
   ],
   "source": [
    "def binary_search(list, item):\n",
    "    \"\"\"Returns index of item in list\"\"\"\n",
    "    low = 0 # Low and high keep trach of which part of the list you'll search in\n",
    "    high = len(list) - 1\n",
    "    while low <= high: # While you haven't narrowed it down to one element\n",
    "        mid = (low + high) / 2 # Check the middle element\n",
    "        guess = list[mid]\n",
    "        if guess == item: # Found the item\n",
    "            return mid\n",
    "        if guess > item: # The guess was too high\n",
    "            high = mid - 1\n",
    "        else: # The guess was too low\n",
    "            low = mid + 1\n",
    "    return None\n",
    "\n",
    "my_list = [1,3,5,7,9]\n",
    "\n",
    "print binary_search(my_list, 3)\n",
    "print binary_search(my_list, -1)"
   ]
  },
  {
   "cell_type": "markdown",
   "metadata": {},
   "source": [
    "# Big O Notation\n",
    "- A special notation that tells you how fast an algorithm is\n",
    "    - It allows you to compare the number of operations between algorithms\n",
    "- Notation O(n), where n is number of operations\n",
    "    - Binary search is O(log n)\n",
    "    - Simple search is O(n)\n",
    "    - A fast sorting algorithm like quicksort is O(n*log n)\n",
    "    - A slow sorting algorithm, like selection sort is O(n^2)\n",
    "    - A really slow algorithm, like the traveling salesperson is O(n!)\n",
    "    - Big O is about the worst-case scenario run time\n",
    "    - It is also important to note the average-case run time for comparison\n",
    "    "
   ]
  }
 ],
 "metadata": {
  "kernelspec": {
   "display_name": "Python [conda env:py27]",
   "language": "python",
   "name": "conda-env-py27-py"
  },
  "language_info": {
   "codemirror_mode": {
    "name": "ipython",
    "version": 2
   },
   "file_extension": ".py",
   "mimetype": "text/x-python",
   "name": "python",
   "nbconvert_exporter": "python",
   "pygments_lexer": "ipython2",
   "version": "2.7.14"
  }
 },
 "nbformat": 4,
 "nbformat_minor": 2
}
